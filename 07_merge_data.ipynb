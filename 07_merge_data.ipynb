{
 "cells": [
  {
   "cell_type": "code",
   "execution_count": 2,
   "metadata": {},
   "outputs": [
    {
     "name": "stdout",
     "output_type": "stream",
     "text": [
      "the type of job_data is:<class 'dict'>\n",
      "the type of company data is:<class 'dict'>\n"
     ]
    }
   ],
   "source": [
    "#we will first use to dict then we will make data frame from it then we will make it to data frame. using pd.DataFrame()\n",
    "#inside the brackets you will give the dict.\n",
    "\n",
    "job_data = {\n",
    "    'job_id': [1, 2, 3, 4, 5],\n",
    "    'job_title': ['Data Scientist', 'Software Engineer', 'Product Manager', 'Marketing Director', 'HR Manager'],\n",
    "    'company_name': ['Google', 'Microsoft', 'Apple', 'Nike', 'Starbucks'],\n",
    "    'job_location': ['Mountain View, CA', 'Redmond, WA', 'Cupertino, CA', 'Beaverton, OR', 'Seattle, WA']\n",
    "}\n",
    "\n",
    "company_data = {\n",
    "    'company_name': ['Google', 'Microsoft', 'Apple', 'Nike', 'Starbucks'],\n",
    "    'industry': ['Technology', 'Technology', 'Technology', 'Apparel', 'Food & Beverage'],\n",
    "    'company_size': ['100,000+', '100,000+', '100,000+', '75,000+', '346,000+']\n",
    "}\n",
    "\n",
    "print(f'the type of job_data is:{type(job_data)}')\n",
    "print(f'the type of company data is:{type(company_data)}')\n"
   ]
  },
  {
   "cell_type": "code",
   "execution_count": 3,
   "metadata": {},
   "outputs": [
    {
     "name": "stderr",
     "output_type": "stream",
     "text": [
      "c:\\Users\\sande\\anaconda3\\envs\\my_learnings\\Lib\\site-packages\\tqdm\\auto.py:21: TqdmWarning: IProgress not found. Please update jupyter and ipywidgets. See https://ipywidgets.readthedocs.io/en/stable/user_install.html\n",
      "  from .autonotebook import tqdm as notebook_tqdm\n"
     ]
    }
   ],
   "source": [
    "# Importing Libraries\n",
    "import pandas as pd\n",
    "from datasets import load_dataset\n",
    "import matplotlib.pyplot as plt  \n"
   ]
  },
  {
   "cell_type": "code",
   "execution_count": 7,
   "metadata": {},
   "outputs": [
    {
     "name": "stdout",
     "output_type": "stream",
     "text": [
      "<class 'pandas.core.frame.DataFrame'>\n"
     ]
    }
   ],
   "source": [
    "#lets convert to Dataframe\n",
    "\n",
    "df_jobs = pd.DataFrame(job_data)\n",
    "df_companies = pd.DataFrame(company_data)\n",
    "\n",
    "print(type(df_jobs))"
   ]
  },
  {
   "cell_type": "code",
   "execution_count": 9,
   "metadata": {},
   "outputs": [
    {
     "data": {
      "text/html": [
       "<div>\n",
       "<style scoped>\n",
       "    .dataframe tbody tr th:only-of-type {\n",
       "        vertical-align: middle;\n",
       "    }\n",
       "\n",
       "    .dataframe tbody tr th {\n",
       "        vertical-align: top;\n",
       "    }\n",
       "\n",
       "    .dataframe thead th {\n",
       "        text-align: right;\n",
       "    }\n",
       "</style>\n",
       "<table border=\"1\" class=\"dataframe\">\n",
       "  <thead>\n",
       "    <tr style=\"text-align: right;\">\n",
       "      <th></th>\n",
       "      <th>job_id</th>\n",
       "      <th>job_title</th>\n",
       "      <th>company_name</th>\n",
       "      <th>job_location</th>\n",
       "      <th>industry</th>\n",
       "      <th>company_size</th>\n",
       "    </tr>\n",
       "  </thead>\n",
       "  <tbody>\n",
       "    <tr>\n",
       "      <th>0</th>\n",
       "      <td>1</td>\n",
       "      <td>Data Scientist</td>\n",
       "      <td>Google</td>\n",
       "      <td>Mountain View, CA</td>\n",
       "      <td>Technology</td>\n",
       "      <td>100,000+</td>\n",
       "    </tr>\n",
       "    <tr>\n",
       "      <th>1</th>\n",
       "      <td>2</td>\n",
       "      <td>Software Engineer</td>\n",
       "      <td>Microsoft</td>\n",
       "      <td>Redmond, WA</td>\n",
       "      <td>Technology</td>\n",
       "      <td>100,000+</td>\n",
       "    </tr>\n",
       "    <tr>\n",
       "      <th>2</th>\n",
       "      <td>3</td>\n",
       "      <td>Product Manager</td>\n",
       "      <td>Apple</td>\n",
       "      <td>Cupertino, CA</td>\n",
       "      <td>Technology</td>\n",
       "      <td>100,000+</td>\n",
       "    </tr>\n",
       "    <tr>\n",
       "      <th>3</th>\n",
       "      <td>4</td>\n",
       "      <td>Marketing Director</td>\n",
       "      <td>Nike</td>\n",
       "      <td>Beaverton, OR</td>\n",
       "      <td>Apparel</td>\n",
       "      <td>75,000+</td>\n",
       "    </tr>\n",
       "    <tr>\n",
       "      <th>4</th>\n",
       "      <td>5</td>\n",
       "      <td>HR Manager</td>\n",
       "      <td>Starbucks</td>\n",
       "      <td>Seattle, WA</td>\n",
       "      <td>Food &amp; Beverage</td>\n",
       "      <td>346,000+</td>\n",
       "    </tr>\n",
       "  </tbody>\n",
       "</table>\n",
       "</div>"
      ],
      "text/plain": [
       "   job_id           job_title company_name       job_location  \\\n",
       "0       1      Data Scientist       Google  Mountain View, CA   \n",
       "1       2   Software Engineer    Microsoft        Redmond, WA   \n",
       "2       3     Product Manager        Apple      Cupertino, CA   \n",
       "3       4  Marketing Director         Nike      Beaverton, OR   \n",
       "4       5          HR Manager    Starbucks        Seattle, WA   \n",
       "\n",
       "          industry company_size  \n",
       "0       Technology     100,000+  \n",
       "1       Technology     100,000+  \n",
       "2       Technology     100,000+  \n",
       "3          Apparel      75,000+  \n",
       "4  Food & Beverage     346,000+  "
      ]
     },
     "execution_count": 9,
     "metadata": {},
     "output_type": "execute_result"
    }
   ],
   "source": [
    "df_job_companies = df_jobs.merge(df_companies, on= 'company_name')\n",
    "\n",
    "df_job_companies"
   ]
  },
  {
   "cell_type": "code",
   "execution_count": null,
   "metadata": {},
   "outputs": [],
   "source": [
    "# #merge(): Combine DataFrames based on common columns or indices, similar to SQL joins (inner, outer, left, right).\n",
    "# It merges rows from the DataFrame based on the specific keys.\n"
   ]
  }
 ],
 "metadata": {
  "kernelspec": {
   "display_name": "my_learnings",
   "language": "python",
   "name": "python3"
  },
  "language_info": {
   "codemirror_mode": {
    "name": "ipython",
    "version": 3
   },
   "file_extension": ".py",
   "mimetype": "text/x-python",
   "name": "python",
   "nbconvert_exporter": "python",
   "pygments_lexer": "ipython3",
   "version": "3.12.7"
  }
 },
 "nbformat": 4,
 "nbformat_minor": 2
}
